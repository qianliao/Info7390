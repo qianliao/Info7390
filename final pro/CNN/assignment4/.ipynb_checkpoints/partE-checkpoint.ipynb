{
 "cells": [
  {
   "cell_type": "markdown",
   "metadata": {},
   "source": [
    "### Part E - Gradient estimation "
   ]
  },
  {
   "cell_type": "code",
   "execution_count": 1,
   "metadata": {},
   "outputs": [],
   "source": [
    "from __future__ import division, print_function, absolute_import\n",
    "\n",
    "import tflearn\n",
    "from tflearn.layers.core import input_data, dropout, fully_connected,flatten\n",
    "from tflearn.layers.conv import conv_1d, max_pool_1d,conv_2d, max_pool_2d\n",
    "from tflearn.layers.normalization import local_response_normalization\n",
    "from tflearn.layers.estimator import regression\n",
    "\n",
    "import tensorflow as tf\n",
    "import numpy as np"
   ]
  },
  {
   "cell_type": "code",
   "execution_count": 2,
   "metadata": {},
   "outputs": [],
   "source": [
    "data = np.genfromtxt(\"norm.csv\",delimiter=\",\",missing_values=\"?\",filling_values=1.)\n",
    "#Separate the X\n",
    "dataX = data[:,1:-1]\n",
    "#Separate the Y\n",
    "##first column record whether the team win the game\n",
    "pre_dataY = data[:,0] \n",
    "#Convert the Y to one hot\n",
    "dataY = np.zeros((pre_dataY.size,2))\n",
    "\n",
    "\n",
    "for i in range(len(pre_dataY)):\n",
    "    if pre_dataY[i] >= 15:\n",
    "        dataY[i][0] = 1\n",
    "    else:\n",
    "        dataY[i][1] = 1\n",
    " "
   ]
  },
  {
   "cell_type": "code",
   "execution_count": 3,
   "metadata": {},
   "outputs": [
    {
     "data": {
      "text/plain": [
       "(87898, 2, 3, 1)"
      ]
     },
     "execution_count": 3,
     "metadata": {},
     "output_type": "execute_result"
    }
   ],
   "source": [
    "dataX = dataX.reshape([-1, 2, 3, 1])\n",
    "dataX.shape"
   ]
  },
  {
   "cell_type": "code",
   "execution_count": 4,
   "metadata": {},
   "outputs": [
    {
     "data": {
      "text/plain": [
       "(87898, 2)"
      ]
     },
     "execution_count": 4,
     "metadata": {},
     "output_type": "execute_result"
    }
   ],
   "source": [
    "dataY.shape"
   ]
  },
  {
   "cell_type": "code",
   "execution_count": 5,
   "metadata": {},
   "outputs": [],
   "source": [
    "#Number of data points used for testing\n",
    "num_test = int(0.15 * len(data))\n",
    "\n",
    "#Split data into train and  test\n",
    "trainX = dataX[:-num_test]\n",
    "testX = dataX[-num_test:]\n",
    "\n",
    "trainY = dataY[:-num_test]\n",
    "testY = dataY[-num_test:]\n"
   ]
  },
  {
   "cell_type": "markdown",
   "metadata": {},
   "source": [
    "##  Change Gradient Estimation\n",
    "activation = relu + tanh + tanh  \n",
    "loss =  mean_square  \n",
    "Epochs = 20\n",
    "** optimizer = 'SGD' **"
   ]
  },
  {
   "cell_type": "code",
   "execution_count": 6,
   "metadata": {},
   "outputs": [],
   "source": [
    "network5 = input_data(shape=[None, 2, 3, 1], name='input')\n",
    "network5 = conv_2d(network5,4,2,activation='relu',regularizer=\"L2\")\n",
    "network5 = max_pool_2d(network5,1)\n",
    "network5 = fully_connected(network5, 16, activation='tanh')\n",
    "#network5 = dropout(network1,0.8)\n",
    "network5 = fully_connected(network5, 2, activation='tanh')\n",
    "network5 = regression(network5, optimizer='SGD', learning_rate=0.01,loss='mean_square', name='target')\n"
   ]
  },
  {
   "cell_type": "code",
   "execution_count": null,
   "metadata": {},
   "outputs": [
    {
     "name": "stdout",
     "output_type": "stream",
     "text": [
      "Training Step: 299  | total loss: \u001b[1m\u001b[32m0.08794\u001b[0m\u001b[0m | time: 3.022s\n",
      "\u001b[2K\r",
      "| SGD | epoch: 001 | loss: 0.08794 - acc: 0.9241 -- iter: 19136/74714\n"
     ]
    }
   ],
   "source": [
    "model = tflearn.DNN(network5, tensorboard_verbose=0)\n",
    "model.fit({'input': trainX}, {'target': trainY}, n_epoch=20,\n",
    "           validation_set=({'input': testX}, {'target': testY}),\n",
    "           snapshot_step=100, show_metric=True, run_id='pubg')\n"
   ]
  },
  {
   "cell_type": "markdown",
   "metadata": {},
   "source": []
  }
 ],
 "metadata": {
  "kernelspec": {
   "display_name": "Python 3",
   "language": "python",
   "name": "python3"
  },
  "language_info": {
   "codemirror_mode": {
    "name": "ipython",
    "version": 3
   },
   "file_extension": ".py",
   "mimetype": "text/x-python",
   "name": "python",
   "nbconvert_exporter": "python",
   "pygments_lexer": "ipython3",
   "version": "3.6.2"
  }
 },
 "nbformat": 4,
 "nbformat_minor": 2
}
