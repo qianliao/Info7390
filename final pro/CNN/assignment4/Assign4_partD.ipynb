{
 "cells": [
  {
   "cell_type": "markdown",
   "metadata": {},
   "source": [
    "## Assignment4_PartD - Epochs (10 points)\n",
    "\n",
    "On your Deep Learning model data\n",
    "### Change the number of epochs initialization. How does it effect the accuracy?\n",
    "### How quickly does the network plateau?"
   ]
  },
  {
   "cell_type": "code",
   "execution_count": 1,
   "metadata": {
    "collapsed": true
   },
   "outputs": [],
   "source": [
    "from __future__ import division, print_function, absolute_import\n",
    "\n",
    "import tflearn\n",
    "from tflearn.layers.core import input_data, dropout, fully_connected,flatten\n",
    "from tflearn.layers.conv import conv_1d, max_pool_1d,conv_2d, max_pool_2d\n",
    "from tflearn.layers.normalization import local_response_normalization\n",
    "from tflearn.layers.estimator import regression\n",
    "\n",
    "import tensorflow as tf\n",
    "import numpy as np"
   ]
  },
  {
   "cell_type": "code",
   "execution_count": 2,
   "metadata": {
    "collapsed": true
   },
   "outputs": [],
   "source": [
    "data = np.genfromtxt(\"norm.csv\",delimiter=\",\",missing_values=\"?\",filling_values=1.)\n",
    "#Separate the X\n",
    "dataX = data[:,1:-1]\n",
    "#Separate the Y\n",
    "##first column record whether the team win the game\n",
    "pre_dataY = data[:,0] \n",
    "#Convert the Y to one hot\n",
    "dataY = np.zeros((pre_dataY.size,2))\n",
    "\n",
    "\n",
    "for i in range(len(pre_dataY)):\n",
    "    if pre_dataY[i] >= 15:\n",
    "        dataY[i][0] = 1\n",
    "    else:\n",
    "        dataY[i][1] = 1\n",
    " "
   ]
  },
  {
   "cell_type": "code",
   "execution_count": 3,
   "metadata": {},
   "outputs": [
    {
     "data": {
      "text/plain": [
       "(87898, 2, 3, 1)"
      ]
     },
     "execution_count": 3,
     "metadata": {},
     "output_type": "execute_result"
    }
   ],
   "source": [
    "dataX = dataX.reshape([-1, 2, 3, 1])\n",
    "dataX.shape"
   ]
  },
  {
   "cell_type": "code",
   "execution_count": 4,
   "metadata": {},
   "outputs": [
    {
     "data": {
      "text/plain": [
       "(87898, 2)"
      ]
     },
     "execution_count": 4,
     "metadata": {},
     "output_type": "execute_result"
    }
   ],
   "source": [
    "dataY.shape"
   ]
  },
  {
   "cell_type": "code",
   "execution_count": 5,
   "metadata": {
    "collapsed": true
   },
   "outputs": [],
   "source": [
    "#Number of data points used for testing\n",
    "num_test = int(0.15 * len(data))\n",
    "\n",
    "#Split data into train and  test\n",
    "trainX = dataX[:-num_test]\n",
    "testX = dataX[-num_test:]\n",
    "\n",
    "trainY = dataY[:-num_test]\n",
    "testY = dataY[-num_test:]\n"
   ]
  },
  {
   "cell_type": "markdown",
   "metadata": {},
   "source": [
    "##  Change Epochs\n",
    "activation = relu + tanh + tanh  \n",
    "loss =  mean_square  \n",
    "Epochs = 40"
   ]
  },
  {
   "cell_type": "code",
   "execution_count": 6,
   "metadata": {
    "collapsed": true
   },
   "outputs": [],
   "source": [
    "network5 = input_data(shape=[None, 2, 3, 1], name='input')\n",
    "network5 = conv_2d(network5,4,2,activation='relu',regularizer=\"L2\")\n",
    "network5 = max_pool_2d(network5,1)\n",
    "network5 = fully_connected(network5, 16, activation='tanh')\n",
    "#network5 = dropout(network1,0.8)\n",
    "network5 = fully_connected(network5, 2, activation='tanh')\n",
    "network5 = regression(network5, optimizer='adam', learning_rate=0.01,loss='mean_square', name='target')\n",
    "\n"
   ]
  },
  {
   "cell_type": "code",
   "execution_count": 7,
   "metadata": {},
   "outputs": [
    {
     "name": "stdout",
     "output_type": "stream",
     "text": [
      "Training Step: 46719  | total loss: \u001b[1m\u001b[32m0.00491\u001b[0m\u001b[0m | time: 15.928s\n",
      "| Adam | epoch: 040 | loss: 0.00491 - acc: 0.9949 -- iter: 74688/74714\n",
      "Training Step: 46720  | total loss: \u001b[1m\u001b[32m0.00594\u001b[0m\u001b[0m | time: 17.000s\n",
      "| Adam | epoch: 040 | loss: 0.00594 - acc: 0.9939 | val_loss: 0.00399 - val_acc: 0.9948 -- iter: 74714/74714\n",
      "--\n"
     ]
    }
   ],
   "source": [
    "model = tflearn.DNN(network5, tensorboard_verbose=0)\n",
    "model.fit({'input': trainX}, {'target': trainY}, n_epoch=40,\n",
    "           validation_set=({'input': testX}, {'target': testY}),\n",
    "           snapshot_step=100, show_metric=True, run_id='pubg')"
   ]
  },
  {
   "cell_type": "markdown",
   "metadata": {},
   "source": [
    "<img src=\"conv2d.png\">"
   ]
  },
  {
   "cell_type": "markdown",
   "metadata": {},
   "source": [
    "### 1.Change the number of epochs initialization. How does it effect the accuracy?\n",
    "\n",
    "** the accuracy is almost same. **"
   ]
  },
  {
   "cell_type": "markdown",
   "metadata": {},
   "source": [
    "### 2.How quickly does the network plateau?\n",
    "\n",
    "** the plateau is shorter. **"
   ]
  },
  {
   "cell_type": "code",
   "execution_count": null,
   "metadata": {
    "collapsed": true
   },
   "outputs": [],
   "source": []
  }
 ],
 "metadata": {
  "kernelspec": {
   "display_name": "Python 3",
   "language": "python",
   "name": "python3"
  },
  "language_info": {
   "codemirror_mode": {
    "name": "ipython",
    "version": 3
   },
   "file_extension": ".py",
   "mimetype": "text/x-python",
   "name": "python",
   "nbconvert_exporter": "python",
   "pygments_lexer": "ipython3",
   "version": "3.6.3"
  }
 },
 "nbformat": 4,
 "nbformat_minor": 2
}
