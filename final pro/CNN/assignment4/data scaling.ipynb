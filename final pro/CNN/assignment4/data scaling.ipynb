{
 "cells": [
  {
   "cell_type": "code",
   "execution_count": 18,
   "metadata": {},
   "outputs": [],
   "source": [
    "%matplotlib inline\n",
    "from collections import Counter\n",
    "import random\n",
    "\n",
    "import numpy as np\n",
    "import matplotlib.pyplot as plt\n",
    "import pandas as pd\n",
    "import seaborn as sns\n",
    "from sklearn.cluster import KMeans, DBSCAN\n",
    "from scipy.stats import multivariate_normal"
   ]
  },
  {
   "cell_type": "code",
   "execution_count": 19,
   "metadata": {},
   "outputs": [
    {
     "data": {
      "text/html": [
       "<div>\n",
       "<style>\n",
       "    .dataframe thead tr:only-child th {\n",
       "        text-align: right;\n",
       "    }\n",
       "\n",
       "    .dataframe thead th {\n",
       "        text-align: left;\n",
       "    }\n",
       "\n",
       "    .dataframe tbody tr th {\n",
       "        vertical-align: top;\n",
       "    }\n",
       "</style>\n",
       "<table border=\"1\" class=\"dataframe\">\n",
       "  <thead>\n",
       "    <tr style=\"text-align: right;\">\n",
       "      <th></th>\n",
       "      <th>tracker_id</th>\n",
       "      <th>solo_WinRatio</th>\n",
       "      <th>solo_Rating</th>\n",
       "      <th>solo_KillDeathRatio</th>\n",
       "      <th>solo_DamagePg</th>\n",
       "      <th>solo_HealsPg</th>\n",
       "      <th>solo_KillsPg</th>\n",
       "      <th>solo_WinPoints</th>\n",
       "      <th>solo_AvgRideDistance</th>\n",
       "    </tr>\n",
       "  </thead>\n",
       "  <tbody>\n",
       "    <tr>\n",
       "      <th>0</th>\n",
       "      <td>4405</td>\n",
       "      <td>17.65</td>\n",
       "      <td>1559.78</td>\n",
       "      <td>3.14</td>\n",
       "      <td>255.36</td>\n",
       "      <td>1.94</td>\n",
       "      <td>2.59</td>\n",
       "      <td>2425</td>\n",
       "      <td>2764.50</td>\n",
       "    </tr>\n",
       "    <tr>\n",
       "      <th>1</th>\n",
       "      <td>8199</td>\n",
       "      <td>18.18</td>\n",
       "      <td>1884.53</td>\n",
       "      <td>4.41</td>\n",
       "      <td>393.04</td>\n",
       "      <td>1.82</td>\n",
       "      <td>3.61</td>\n",
       "      <td>3812</td>\n",
       "      <td>5188.69</td>\n",
       "    </tr>\n",
       "    <tr>\n",
       "      <th>2</th>\n",
       "      <td>4454</td>\n",
       "      <td>0.00</td>\n",
       "      <td>1255.92</td>\n",
       "      <td>3.60</td>\n",
       "      <td>329.76</td>\n",
       "      <td>1.00</td>\n",
       "      <td>3.60</td>\n",
       "      <td>2061</td>\n",
       "      <td>3052.50</td>\n",
       "    </tr>\n",
       "    <tr>\n",
       "      <th>3</th>\n",
       "      <td>7729</td>\n",
       "      <td>50.00</td>\n",
       "      <td>1798.70</td>\n",
       "      <td>14.00</td>\n",
       "      <td>751.95</td>\n",
       "      <td>1.00</td>\n",
       "      <td>7.00</td>\n",
       "      <td>1484</td>\n",
       "      <td>3789.35</td>\n",
       "    </tr>\n",
       "    <tr>\n",
       "      <th>4</th>\n",
       "      <td>0</td>\n",
       "      <td>33.33</td>\n",
       "      <td>1668.67</td>\n",
       "      <td>10.50</td>\n",
       "      <td>637.48</td>\n",
       "      <td>2.00</td>\n",
       "      <td>7.00</td>\n",
       "      <td>1384</td>\n",
       "      <td>3737.56</td>\n",
       "    </tr>\n",
       "  </tbody>\n",
       "</table>\n",
       "</div>"
      ],
      "text/plain": [
       "   tracker_id  solo_WinRatio  solo_Rating  solo_KillDeathRatio  solo_DamagePg  \\\n",
       "0        4405          17.65      1559.78                 3.14         255.36   \n",
       "1        8199          18.18      1884.53                 4.41         393.04   \n",
       "2        4454           0.00      1255.92                 3.60         329.76   \n",
       "3        7729          50.00      1798.70                14.00         751.95   \n",
       "4           0          33.33      1668.67                10.50         637.48   \n",
       "\n",
       "   solo_HealsPg  solo_KillsPg  solo_WinPoints  solo_AvgRideDistance  \n",
       "0          1.94          2.59            2425               2764.50  \n",
       "1          1.82          3.61            3812               5188.69  \n",
       "2          1.00          3.60            2061               3052.50  \n",
       "3          1.00          7.00            1484               3789.35  \n",
       "4          2.00          7.00            1384               3737.56  "
      ]
     },
     "execution_count": 19,
     "metadata": {},
     "output_type": "execute_result"
    }
   ],
   "source": [
    "df1 = pd.read_csv('PUBG_Player_solo.csv')\n",
    "df1.head()"
   ]
  },
  {
   "cell_type": "code",
   "execution_count": 20,
   "metadata": {},
   "outputs": [
    {
     "name": "stdout",
     "output_type": "stream",
     "text": [
      "100.0\n",
      "0.0\n"
     ]
    }
   ],
   "source": [
    "print(df1['solo_KillDeathRatio'].max())\n",
    "print(df1['solo_KillDeathRatio'].min())"
   ]
  },
  {
   "cell_type": "code",
   "execution_count": 21,
   "metadata": {},
   "outputs": [],
   "source": [
    "kdr=(df1['solo_KillDeathRatio']-df1['solo_KillDeathRatio'].min())/(df1['solo_KillDeathRatio'].max()-df1['solo_KillDeathRatio'].min())"
   ]
  },
  {
   "cell_type": "markdown",
   "metadata": {},
   "source": [
    "winratio"
   ]
  },
  {
   "cell_type": "code",
   "execution_count": null,
   "metadata": {},
   "outputs": [],
   "source": []
  },
  {
   "cell_type": "code",
   "execution_count": 22,
   "metadata": {},
   "outputs": [],
   "source": [
    "rating = (df1['solo_Rating']-df1['solo_Rating'].min())/(df1['solo_Rating'].max()-df1['solo_Rating'].min())"
   ]
  },
  {
   "cell_type": "code",
   "execution_count": 23,
   "metadata": {},
   "outputs": [],
   "source": [
    "dp=(df1['solo_DamagePg']-df1['solo_DamagePg'].min())/(df1['solo_DamagePg'].max()-df1['solo_DamagePg'].min())"
   ]
  },
  {
   "cell_type": "code",
   "execution_count": 24,
   "metadata": {},
   "outputs": [],
   "source": [
    "hp=(df1['solo_HealsPg']-df1['solo_HealsPg'].min())/(df1['solo_HealsPg'].max()-df1['solo_HealsPg'].min())"
   ]
  },
  {
   "cell_type": "code",
   "execution_count": 25,
   "metadata": {},
   "outputs": [],
   "source": [
    "kp=(df1['solo_KillsPg']-df1['solo_KillsPg'].min())/(df1['solo_KillsPg'].max()-df1['solo_KillsPg'].min())"
   ]
  },
  {
   "cell_type": "code",
   "execution_count": 26,
   "metadata": {},
   "outputs": [],
   "source": [
    "wp=(df1['solo_WinPoints']-df1['solo_WinPoints'].min())/(df1['solo_WinPoints'].max()-df1['solo_WinPoints'].min())"
   ]
  },
  {
   "cell_type": "code",
   "execution_count": 27,
   "metadata": {},
   "outputs": [],
   "source": [
    "ard=(df1['solo_AvgRideDistance']-df1['solo_AvgRideDistance'].min())/(df1['solo_AvgRideDistance'].max()-df1['solo_AvgRideDistance'].min())"
   ]
  },
  {
   "cell_type": "code",
   "execution_count": 28,
   "metadata": {},
   "outputs": [
    {
     "ename": "ValueError",
     "evalue": "labels ['solo_Rating' 'solo_KillDeathRatio' 'solo_DamagePg' 'solo_HealsPg'\n 'solo_KillsPg' 'solo_WinPoints' 'solo_AvgRideDistance'] not contained in axis",
     "output_type": "error",
     "traceback": [
      "\u001b[0;31m---------------------------------------------------------------------------\u001b[0m",
      "\u001b[0;31mValueError\u001b[0m                                Traceback (most recent call last)",
      "\u001b[0;32m<ipython-input-28-9de0bc6c29a3>\u001b[0m in \u001b[0;36m<module>\u001b[0;34m()\u001b[0m\n\u001b[1;32m      5\u001b[0m \u001b[0;31m# data_scaling.insert(3,'DEWP',ds)\u001b[0m\u001b[0;34m\u001b[0m\u001b[0;34m\u001b[0m\u001b[0m\n\u001b[1;32m      6\u001b[0m \u001b[0;34m\u001b[0m\u001b[0m\n\u001b[0;32m----> 7\u001b[0;31m \u001b[0mdata\u001b[0m\u001b[0;34m=\u001b[0m\u001b[0mdf1\u001b[0m\u001b[0;34m.\u001b[0m\u001b[0mdrop\u001b[0m\u001b[0;34m(\u001b[0m\u001b[0;34m[\u001b[0m\u001b[0;34m'solo_Rating'\u001b[0m\u001b[0;34m,\u001b[0m\u001b[0;34m'solo_KillDeathRatio'\u001b[0m\u001b[0;34m,\u001b[0m\u001b[0;34m'solo_DamagePg'\u001b[0m\u001b[0;34m,\u001b[0m\u001b[0;34m'solo_HealsPg'\u001b[0m\u001b[0;34m,\u001b[0m\u001b[0;34m'solo_KillsPg'\u001b[0m\u001b[0;34m,\u001b[0m\u001b[0;34m'solo_WinPoints'\u001b[0m\u001b[0;34m,\u001b[0m\u001b[0;34m'solo_AvgRideDistance'\u001b[0m\u001b[0;34m]\u001b[0m\u001b[0;34m)\u001b[0m\u001b[0;34m\u001b[0m\u001b[0m\n\u001b[0m\u001b[1;32m      8\u001b[0m \u001b[0;34m\u001b[0m\u001b[0m\n\u001b[1;32m      9\u001b[0m \u001b[0mdata\u001b[0m\u001b[0;34m.\u001b[0m\u001b[0minsert\u001b[0m\u001b[0;34m(\u001b[0m\u001b[0;36m2\u001b[0m\u001b[0;34m,\u001b[0m\u001b[0;34m'rating'\u001b[0m\u001b[0;34m,\u001b[0m\u001b[0mrating\u001b[0m\u001b[0;34m)\u001b[0m\u001b[0;34m\u001b[0m\u001b[0m\n",
      "\u001b[0;32m~/anaconda3/lib/python3.6/site-packages/pandas/core/generic.py\u001b[0m in \u001b[0;36mdrop\u001b[0;34m(self, labels, axis, level, inplace, errors)\u001b[0m\n\u001b[1;32m   2159\u001b[0m                 \u001b[0mnew_axis\u001b[0m \u001b[0;34m=\u001b[0m \u001b[0maxis\u001b[0m\u001b[0;34m.\u001b[0m\u001b[0mdrop\u001b[0m\u001b[0;34m(\u001b[0m\u001b[0mlabels\u001b[0m\u001b[0;34m,\u001b[0m \u001b[0mlevel\u001b[0m\u001b[0;34m=\u001b[0m\u001b[0mlevel\u001b[0m\u001b[0;34m,\u001b[0m \u001b[0merrors\u001b[0m\u001b[0;34m=\u001b[0m\u001b[0merrors\u001b[0m\u001b[0;34m)\u001b[0m\u001b[0;34m\u001b[0m\u001b[0m\n\u001b[1;32m   2160\u001b[0m             \u001b[0;32melse\u001b[0m\u001b[0;34m:\u001b[0m\u001b[0;34m\u001b[0m\u001b[0m\n\u001b[0;32m-> 2161\u001b[0;31m                 \u001b[0mnew_axis\u001b[0m \u001b[0;34m=\u001b[0m \u001b[0maxis\u001b[0m\u001b[0;34m.\u001b[0m\u001b[0mdrop\u001b[0m\u001b[0;34m(\u001b[0m\u001b[0mlabels\u001b[0m\u001b[0;34m,\u001b[0m \u001b[0merrors\u001b[0m\u001b[0;34m=\u001b[0m\u001b[0merrors\u001b[0m\u001b[0;34m)\u001b[0m\u001b[0;34m\u001b[0m\u001b[0m\n\u001b[0m\u001b[1;32m   2162\u001b[0m             \u001b[0mdropped\u001b[0m \u001b[0;34m=\u001b[0m \u001b[0mself\u001b[0m\u001b[0;34m.\u001b[0m\u001b[0mreindex\u001b[0m\u001b[0;34m(\u001b[0m\u001b[0;34m**\u001b[0m\u001b[0;34m{\u001b[0m\u001b[0maxis_name\u001b[0m\u001b[0;34m:\u001b[0m \u001b[0mnew_axis\u001b[0m\u001b[0;34m}\u001b[0m\u001b[0;34m)\u001b[0m\u001b[0;34m\u001b[0m\u001b[0m\n\u001b[1;32m   2163\u001b[0m             \u001b[0;32mtry\u001b[0m\u001b[0;34m:\u001b[0m\u001b[0;34m\u001b[0m\u001b[0m\n",
      "\u001b[0;32m~/anaconda3/lib/python3.6/site-packages/pandas/core/indexes/base.py\u001b[0m in \u001b[0;36mdrop\u001b[0;34m(self, labels, errors)\u001b[0m\n\u001b[1;32m   3622\u001b[0m             \u001b[0;32mif\u001b[0m \u001b[0merrors\u001b[0m \u001b[0;34m!=\u001b[0m \u001b[0;34m'ignore'\u001b[0m\u001b[0;34m:\u001b[0m\u001b[0;34m\u001b[0m\u001b[0m\n\u001b[1;32m   3623\u001b[0m                 raise ValueError('labels %s not contained in axis' %\n\u001b[0;32m-> 3624\u001b[0;31m                                  labels[mask])\n\u001b[0m\u001b[1;32m   3625\u001b[0m             \u001b[0mindexer\u001b[0m \u001b[0;34m=\u001b[0m \u001b[0mindexer\u001b[0m\u001b[0;34m[\u001b[0m\u001b[0;34m~\u001b[0m\u001b[0mmask\u001b[0m\u001b[0;34m]\u001b[0m\u001b[0;34m\u001b[0m\u001b[0m\n\u001b[1;32m   3626\u001b[0m         \u001b[0;32mreturn\u001b[0m \u001b[0mself\u001b[0m\u001b[0;34m.\u001b[0m\u001b[0mdelete\u001b[0m\u001b[0;34m(\u001b[0m\u001b[0mindexer\u001b[0m\u001b[0;34m)\u001b[0m\u001b[0;34m\u001b[0m\u001b[0m\n",
      "\u001b[0;31mValueError\u001b[0m: labels ['solo_Rating' 'solo_KillDeathRatio' 'solo_DamagePg' 'solo_HealsPg'\n 'solo_KillsPg' 'solo_WinPoints' 'solo_AvgRideDistance'] not contained in axis"
     ]
    }
   ],
   "source": [
    "# data_scaling = data.drop(['pm25','PRES','TEMP','DEWP'],axis=1)\n",
    "# data_scaling.insert(0,'pm25',pms)\n",
    "# data_scaling.insert(1,'PRES',ps)\n",
    "# data_scaling.insert(2,'TEMP',ts)\n",
    "# data_scaling.insert(3,'DEWP',ds)\n",
    "\n",
    "data=df1.drop(['solo_Rating','solo_KillDeathRatio','solo_DamagePg','solo_HealsPg','solo_KillsPg','solo_WinPoints','solo_AvgRideDistance'])\n",
    "\n",
    "data.insert(2,'rating',rating)\n",
    "data.insert(3,'KDRatio',kdr)\n",
    "data.insert(4,'damagePg',dp)\n",
    "data.insert(5,'healsPg',hp)\n",
    "data.insert(2,'killsPg',kp)\n",
    "data.insert(2,'winpoint',wp)\n",
    "data.insert(2,'averidedis',ard)\n",
    "\n",
    "\n",
    "\n",
    "\n"
   ]
  },
  {
   "cell_type": "code",
   "execution_count": null,
   "metadata": {},
   "outputs": [],
   "source": []
  }
 ],
 "metadata": {
  "kernelspec": {
   "display_name": "Python 3",
   "language": "python",
   "name": "python3"
  },
  "language_info": {
   "codemirror_mode": {
    "name": "ipython",
    "version": 3
   },
   "file_extension": ".py",
   "mimetype": "text/x-python",
   "name": "python",
   "nbconvert_exporter": "python",
   "pygments_lexer": "ipython3",
   "version": "3.6.2"
  }
 },
 "nbformat": 4,
 "nbformat_minor": 2
}
